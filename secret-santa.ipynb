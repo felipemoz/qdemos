{
  "cells": [
    {
      "cell_type": "markdown",
      "source": [
        "# Azure Quantum Optimization Sample: Secret Santa\n",
        "\n",
        "This sample walks through how to solve the Secret Santa problem using Azure Quantum. The scenario is defined as follows:\n",
        "\n",
        "- Vincent, Tess, and Uma each write their name on a slip of paper and place the paper in a jar.\n",
        "- Everybody then draws a slip of paper from the jar at random.\n",
        "- Each person buys a small gift and writes a poem for the person whose name they have drawn.\n",
        "  - If they draw their own name, they return the slip of paper and re-draw.\n",
        "\n",
        "> **Note:**\n",
        "> The inspiration for this scenario came from Vincent's blog post ([found here](https://vincent.frl/quantum-secret-santa/)), which demonstrates how to use [Q# and the QDK](https://docs.microsoft.com/azure/quantum/overview-what-is-qsharp-and-qdk) to solve this scenario. In this sample, we will make use of the [Azure Quantum QIO service](https://docs.microsoft.com/azure/quantum/optimization-what-is-quantum-optimization) to solve the same problem."
      ],
      "metadata": {},
      "id": "b1bc9165"
    },
    {
      "cell_type": "markdown",
      "source": [
        "## Introduction: binary optimization\n",
        "\n",
        "Binary optimization problems take the general form:\n",
        "\n",
        "$\\text{Minimize: } \\sum_{k} term_k = \\sum_k c_k \\prod_{i} x_i \\text{ where } x_i \\in \\{ 0,1 \\} \\text{ or } \\{ -1 , 1 \\} \\text{ and } c_k \\in \\mathbb{R} $\n",
        "\n",
        "Our job is to define a mathematical representation of our problem in this binary format and then use Azure Quantum to solve it.\n",
        "\n",
        "For example, the problem shown below:\n",
        "\n",
        "$13 + 17x_0 + 23x_1x_3x_{77},$\n",
        "\n",
        "would be represented by the following Terms in the Azure Quantum Python SDK:\n",
        "\n",
        "```python\n",
        "terms = [Term(c = 13.0, indices = []), Term(c=17.0, indices = [0]) , Term(c = 23.0, indices = 1, 3, 77)] \n",
        "```\n",
        "\n",
        "> **Note:** See [this documentation page](https://docs.microsoft.com/azure/quantum/quickstart-microsoft-qio?pivots=platform-microsoft#express-a-simple-problem) for further information."
      ],
      "metadata": {},
      "id": "44080084"
    },
    {
      "cell_type": "markdown",
      "source": [
        "## Binary formulation for the Secret Santa problem\n",
        "\n",
        "To represent the Secret Santa problem, we can use six binary variables, as outlined in the Scenario Table below:\n",
        "\n",
        "|- buys ->|**Vincent**|**Tess**|**Uma**|\n",
        "|--|--|--|--|\n",
        "|**Vincent**|--|$x_0$|$x_1$|\n",
        "|**Tess**|$x_2$|--|$x_3$|\n",
        "|**Uma**|$x_3$|$x_4$|--|\n",
        "\n",
        "The constraints for the problem can be expressed as doing logical ANDs ($ \\land $) of variables that are EXCLUSIVE-ORd ($ \\oplus $) together, like this:\n",
        "\n",
        "$\n",
        "( x_0 \\oplus x_1 ) \\land ( x_2 \\oplus x_3 ) \\land ( x_4 \\oplus x_5 ) \\land ( x_2 \\oplus x_4 ) \\land ( x_0 \\oplus x_5 ) \\land ( x_1 \\oplus x_3 )\n",
        "$\n",
        "\n",
        "$\n",
        "\\text{ where } x_i \\in \\{ 0,1 \\} \n",
        "$"
      ],
      "metadata": {},
      "id": "1945aae3"
    },
    {
      "cell_type": "markdown",
      "source": [
        "\n",
        "The truth table for exclusive or ($ \\oplus $) is shown below (one variable or the other is **one**, but not both):\n",
        "\n",
        "|$x_0$|$x_1$|$x_0 \\oplus x_1$|\n",
        "|--|--|--|\n",
        "|0|0|0|\n",
        "|0|1|1|\n",
        "|1|0|1|\n",
        "|1|1|0|\n",
        "\n",
        "Using this truth table, we can see how the constraints are derived. Looking at the Scenario Table defined previously:\n",
        "\n",
        "- Reading the first **row** of the table, Vincent may buy a gift and write a poem for Tess or for Uma, but not both.\n",
        "- Reading the first **column** of the table, Vincent may receive a gift and poem from Tess or from Uma, but not both.\n",
        "\n",
        "More generally:\n",
        "\n",
        "- Each person should give and receive **exactly one** gift from one other person in the group.\n",
        "  - If a person gives more or less than one gift, or receives more or less than one gift, this constraint has been violated and the solution will not be valid."
      ],
      "metadata": {},
      "id": "96308529"
    },
    {
      "cell_type": "markdown",
      "source": [
        "So, how do we represent $ ( x_0 \\oplus x_1 ) $ in a binary format that Azure Quantum will understand?\n",
        "\n",
        "Keeping in mind that we want to **minimize** our cost function, let's try to use the following representation:\n",
        "\n",
        "$ ( x_0 + x_1 - 1 )^2 $  \n",
        "\n",
        "Let's check the truth table for this formulation:\n",
        "\n",
        "|$x_0$|$x_1$|$(x_0 + x_1 - 1)^2$|\n",
        "|--|--|--|\n",
        "|0|0|1|\n",
        "|0|1|0|\n",
        "|1|0|0|\n",
        "|1|1|1|\n",
        "\n",
        "As you can see, in rows where there is exactly one $1$, the result is $0$. This means the penalty applied in those situations will be $0$. Since we want to minimize the cost function, getting $0$ for the answers we want is the correct result.\n",
        "\n",
        "We are almost there! The next step is to do a [quadratic expansion of this formula](https://en.wikipedia.org/wiki/Polynomial). This leaves us with the following expanded formula:\n",
        "\n",
        "$ x_0^2 + x_1^2 + 2x_0x_1 - 2x_0 - 2x_1 + 1 $\n",
        "\n",
        "We build up the Terms in the helper function `build_terms` shown below, but instead of using $x_0$ and $x_1$, we use the indices for our variables instead ($i$ and $j$). \n",
        "\n",
        "So for example, $x_0 \\oplus x_1$ (where $i = 0$ and $j = 1$) would translate to `build_terms(0, 1)`."
      ],
      "metadata": {},
      "id": "62d27b15"
    },
    {
      "cell_type": "code",
      "source": [
        "from azure.quantum import Workspace\n",
        "workspace = Workspace (\n",
        "    subscription_id = \"421b563f-a977-42aa-8934-f41ca5664b73\",\n",
        "    resource_group = \"azurequantum\",\n",
        "    name = \"qsamples\",\n",
        "    location = \"westus\"\n",
        ")"
      ],
      "outputs": [],
      "execution_count": null,
      "metadata": {},
      "id": "352fcc03"
    },
    {
      "cell_type": "code",
      "source": [
        "# Import required modules\n",
        "from typing import List\n",
        "from azure.quantum.optimization import Problem, ProblemType, Term, SimulatedAnnealing \n",
        "\n",
        "def build_terms(i: int, j: int):\n",
        "    \"\"\"\n",
        "    Construct Terms for a row or a column (two variables) of the Secret Santa matrix\n",
        "\n",
        "    Arguments:\n",
        "    i (int): index of first variable\n",
        "    j (int): index of second variable\n",
        "\n",
        "    \"\"\"\n",
        "    \n",
        "    terms = []                                      # Initialize empty terms list\n",
        "    terms.append(Term(c = 1.0, indices = [i, i]))   # x(i)^2\n",
        "    terms.append(Term(c = 1.0, indices = [j, j]))   # x(j)^2\n",
        "    terms.append(Term(c = 2.0, indices = [i, j]))   # 2x(i)x(j) \n",
        "    terms.append(Term(c = -2.0, indices = [i]))     # -2x(i)\n",
        "    terms.append(Term(c = -2.0, indices = [j]))     # -2x(j)\n",
        "    terms.append(Term(c = 1.0, indices = []))       # +1\n",
        "\n",
        "    return terms"
      ],
      "outputs": [],
      "execution_count": null,
      "metadata": {},
      "id": "813fd525"
    },
    {
      "cell_type": "markdown",
      "source": [
        "We have one more helper function, which takes the answer returned from the service and interprets it in a human-readable way based on the Scenario Table, above."
      ],
      "metadata": {},
      "id": "62c3e8d3"
    },
    {
      "cell_type": "code",
      "source": [
        "def print_results(config: dict\n",
        "):\n",
        "    \"\"\"\n",
        "    print results of run\n",
        "\n",
        "    Arguements:\n",
        "    config (dictionary): config returned from solver\n",
        "    \"\"\"\n",
        "    result = {\n",
        "                '0': 'Vincent buys Tess a gift and writes her a poem.',\n",
        "                '1': 'Vincent buys Uma a gift and writes her a poem.',\n",
        "                '2': 'Tess buys Vincent a gift and writes him a poem.',\n",
        "                '3': 'Tess buys Uma a gift and writes her a poem.',\n",
        "                '4': 'Uma buys Vincent a gift and writes him a poem.',\n",
        "                '5': 'Uma buys Tess a gift and writes her a poem.'}\n",
        "\n",
        "    for key, val in config.items():\n",
        "        if val == 1:\n",
        "            print(result[key])"
      ],
      "outputs": [],
      "execution_count": null,
      "metadata": {},
      "id": "cd0a25d5"
    },
    {
      "cell_type": "markdown",
      "source": [
        "Bringing it all together:"
      ],
      "metadata": {},
      "id": "1bd7478e"
    },
    {
      "cell_type": "code",
      "source": [
        "\"\"\"\n",
        "build secret santa matrix\n",
        "\n",
        "        Vincent Tess Uma\n",
        "Vincent    -    x(0) x(1)\n",
        "Tess      x(2)   -   x(3)\n",
        "Uma\t      x(4)  x(5)  -\n",
        "\"\"\"\n",
        "\n",
        "#       row 0             + row 1             + row 2                \n",
        "terms = build_terms(0, 1) + build_terms(2, 3) + build_terms(4, 5)\n",
        "\n",
        "#             + col 0             + col 1             + col 2\n",
        "terms = terms + build_terms(2, 4) + build_terms(0, 5) + build_terms(1, 3)\n",
        "\n",
        "print(f'Terms: {terms}\\n')\n",
        "\n",
        "problem = Problem(name = 'secret santa', problem_type = ProblemType.pubo, terms = terms)\n",
        "\n",
        "solver = SimulatedAnnealing(workspace, timeout = 2)\n",
        "\n",
        "print('Submitting problem to Azure Quantum')\n",
        "result = solver.optimize(problem)\n",
        "\n",
        "print(f'\\n\\nResult: {result}\\n')"
      ],
      "outputs": [],
      "execution_count": null,
      "metadata": {},
      "id": "7bb94b9b"
    },
    {
      "cell_type": "code",
      "source": [
        "# Display the final human-readable result\n",
        "print('Human-readable solution:')\n",
        "print_results(result['configuration'])"
      ],
      "outputs": [],
      "execution_count": null,
      "metadata": {},
      "id": "ceeb71ab"
    }
  ],
  "metadata": {
    "interpreter": {
      "hash": "9a1585b68ad81bb97dda215d88560c564eeaac364ce5ee36f263db22603b05af"
    },
    "kernelspec": {
      "name": "python3",
      "language": "python",
      "display_name": "Python 3 (ipykernel)"
    },
    "language_info": {
      "name": "python",
      "version": "3.7.13",
      "mimetype": "text/x-python",
      "codemirror_mode": {
        "name": "ipython",
        "version": 3
      },
      "pygments_lexer": "ipython3",
      "nbconvert_exporter": "python",
      "file_extension": ".py"
    },
    "kernel_info": {
      "name": "python3"
    },
    "nteract": {
      "version": "nteract-front-end@1.0.0"
    }
  },
  "nbformat": 4,
  "nbformat_minor": 5
}